{
 "cells": [
  {
   "cell_type": "code",
   "execution_count": 1,
   "metadata": {},
   "outputs": [],
   "source": [
    "import numpy as np\n",
    "import pandas as pd\n",
    "import tensorflow as tf\n",
    "from tensorflow import keras\n",
    "from tensorflow.keras import layers\n",
    "from nltk.tokenize import word_tokenize, wordpunct_tokenize\n",
    "from nltk.corpus import stopwords \n",
    "import nltk \n",
    "#nltk.download('punkt')\n",
    "#nltk.download('stopwords')"
   ]
  },
  {
   "cell_type": "code",
   "execution_count": 3,
   "metadata": {},
   "outputs": [],
   "source": [
    "file = open(\"J. K. Rowling - Harry Potter 1 - Sorcerer's Stone\",'r')\n",
    "raw_data_1 = file.read()\n",
    "file.close()"
   ]
  },
  {
   "cell_type": "code",
   "execution_count": 4,
   "metadata": {},
   "outputs": [],
   "source": [
    "stop_words = set(stopwords.words('english')) \n",
    "word_tokens = wordpunct_tokenize(raw_data_1)\n",
    "word_tokens = [w.lower() for w in word_tokens] \n",
    "word_tokens = [w.lower() for w in word_tokens if not w in stop_words] \n",
    "word_tokens = [w.lower() for w in word_tokens if w.isalpha()] "
   ]
  },
  {
   "cell_type": "code",
   "execution_count": 5,
   "metadata": {},
   "outputs": [],
   "source": [
    "vocab = set(word_tokens)\n",
    "char_to_int = dict((c,i) for i,c in enumerate(vocab))\n",
    "int_to_char = dict((i,c) for i,c in enumerate(vocab))"
   ]
  },
  {
   "cell_type": "code",
   "execution_count": 22,
   "metadata": {},
   "outputs": [
    {
     "data": {
      "text/plain": [
       "5615"
      ]
     },
     "execution_count": 22,
     "metadata": {},
     "output_type": "execute_result"
    }
   ],
   "source": [
    "unique = pd.Series(word_tokens).unique()\n",
    "len(unique)            # There are 5615 unique words in vocabulary"
   ]
  },
  {
   "cell_type": "code",
   "execution_count": 6,
   "metadata": {},
   "outputs": [],
   "source": [
    "X = np.zeros((len(word_tokens), len(vocab)))\n",
    "Y = np.array([])\n",
    "Xwords=[]\n",
    "Ywords=[]\n",
    "window_size = 5\n",
    "for i, word in enumerate(word_tokens):\n",
    "    isetvalue=0\n",
    "    w2v=np.zeros(len(vocab))\n",
    "    for icontext in range(max(i-window_size,0), min(i+window_size, len(word_tokens)-1)+1):\n",
    "        if icontext!=i:\n",
    "            w2v[char_to_int[word_tokens[icontext]]]=w2v[char_to_int[word_tokens[icontext]]]+1\n",
    "    X[i]=w2v"
   ]
  },
  {
   "cell_type": "code",
   "execution_count": 13,
   "metadata": {},
   "outputs": [
    {
     "data": {
      "text/html": [
       "<div>\n",
       "<style scoped>\n",
       "    .dataframe tbody tr th:only-of-type {\n",
       "        vertical-align: middle;\n",
       "    }\n",
       "\n",
       "    .dataframe tbody tr th {\n",
       "        vertical-align: top;\n",
       "    }\n",
       "\n",
       "    .dataframe thead th {\n",
       "        text-align: right;\n",
       "    }\n",
       "</style>\n",
       "<table border=\"1\" class=\"dataframe\">\n",
       "  <thead>\n",
       "    <tr style=\"text-align: right;\">\n",
       "      <th></th>\n",
       "      <th>wordkey</th>\n",
       "      <th>teddy</th>\n",
       "      <th>words</th>\n",
       "      <th>outrage</th>\n",
       "      <th>flatter</th>\n",
       "      <th>testing</th>\n",
       "      <th>partner</th>\n",
       "      <th>fixed</th>\n",
       "      <th>cheered</th>\n",
       "      <th>believe</th>\n",
       "      <th>...</th>\n",
       "      <th>definitely</th>\n",
       "      <th>praying</th>\n",
       "      <th>bletchley</th>\n",
       "      <th>pompously</th>\n",
       "      <th>lessened</th>\n",
       "      <th>wind</th>\n",
       "      <th>soaring</th>\n",
       "      <th>flames</th>\n",
       "      <th>snoozed</th>\n",
       "      <th>stadium</th>\n",
       "    </tr>\n",
       "  </thead>\n",
       "  <tbody>\n",
       "    <tr>\n",
       "      <th>0</th>\n",
       "      <td>harry</td>\n",
       "      <td>0.0</td>\n",
       "      <td>0.0</td>\n",
       "      <td>0.0</td>\n",
       "      <td>0.0</td>\n",
       "      <td>0.0</td>\n",
       "      <td>0.0</td>\n",
       "      <td>0.0</td>\n",
       "      <td>0.0</td>\n",
       "      <td>0.0</td>\n",
       "      <td>...</td>\n",
       "      <td>0.0</td>\n",
       "      <td>0.0</td>\n",
       "      <td>0.0</td>\n",
       "      <td>0.0</td>\n",
       "      <td>0.0</td>\n",
       "      <td>0.0</td>\n",
       "      <td>0.0</td>\n",
       "      <td>0.0</td>\n",
       "      <td>0.0</td>\n",
       "      <td>0.0</td>\n",
       "    </tr>\n",
       "    <tr>\n",
       "      <th>1</th>\n",
       "      <td>potter</td>\n",
       "      <td>0.0</td>\n",
       "      <td>0.0</td>\n",
       "      <td>0.0</td>\n",
       "      <td>0.0</td>\n",
       "      <td>0.0</td>\n",
       "      <td>0.0</td>\n",
       "      <td>0.0</td>\n",
       "      <td>0.0</td>\n",
       "      <td>0.0</td>\n",
       "      <td>...</td>\n",
       "      <td>0.0</td>\n",
       "      <td>0.0</td>\n",
       "      <td>0.0</td>\n",
       "      <td>0.0</td>\n",
       "      <td>0.0</td>\n",
       "      <td>0.0</td>\n",
       "      <td>0.0</td>\n",
       "      <td>0.0</td>\n",
       "      <td>0.0</td>\n",
       "      <td>0.0</td>\n",
       "    </tr>\n",
       "    <tr>\n",
       "      <th>2</th>\n",
       "      <td>sorcerer</td>\n",
       "      <td>0.0</td>\n",
       "      <td>0.0</td>\n",
       "      <td>0.0</td>\n",
       "      <td>0.0</td>\n",
       "      <td>0.0</td>\n",
       "      <td>0.0</td>\n",
       "      <td>0.0</td>\n",
       "      <td>0.0</td>\n",
       "      <td>0.0</td>\n",
       "      <td>...</td>\n",
       "      <td>0.0</td>\n",
       "      <td>0.0</td>\n",
       "      <td>0.0</td>\n",
       "      <td>0.0</td>\n",
       "      <td>0.0</td>\n",
       "      <td>0.0</td>\n",
       "      <td>0.0</td>\n",
       "      <td>0.0</td>\n",
       "      <td>0.0</td>\n",
       "      <td>0.0</td>\n",
       "    </tr>\n",
       "    <tr>\n",
       "      <th>3</th>\n",
       "      <td>stone</td>\n",
       "      <td>0.0</td>\n",
       "      <td>0.0</td>\n",
       "      <td>0.0</td>\n",
       "      <td>0.0</td>\n",
       "      <td>0.0</td>\n",
       "      <td>0.0</td>\n",
       "      <td>0.0</td>\n",
       "      <td>0.0</td>\n",
       "      <td>0.0</td>\n",
       "      <td>...</td>\n",
       "      <td>0.0</td>\n",
       "      <td>0.0</td>\n",
       "      <td>0.0</td>\n",
       "      <td>0.0</td>\n",
       "      <td>0.0</td>\n",
       "      <td>0.0</td>\n",
       "      <td>0.0</td>\n",
       "      <td>0.0</td>\n",
       "      <td>0.0</td>\n",
       "      <td>0.0</td>\n",
       "    </tr>\n",
       "    <tr>\n",
       "      <th>4</th>\n",
       "      <td>chapter</td>\n",
       "      <td>0.0</td>\n",
       "      <td>0.0</td>\n",
       "      <td>0.0</td>\n",
       "      <td>0.0</td>\n",
       "      <td>0.0</td>\n",
       "      <td>0.0</td>\n",
       "      <td>0.0</td>\n",
       "      <td>0.0</td>\n",
       "      <td>0.0</td>\n",
       "      <td>...</td>\n",
       "      <td>0.0</td>\n",
       "      <td>0.0</td>\n",
       "      <td>0.0</td>\n",
       "      <td>0.0</td>\n",
       "      <td>0.0</td>\n",
       "      <td>0.0</td>\n",
       "      <td>0.0</td>\n",
       "      <td>0.0</td>\n",
       "      <td>0.0</td>\n",
       "      <td>0.0</td>\n",
       "    </tr>\n",
       "  </tbody>\n",
       "</table>\n",
       "<p>5 rows × 5616 columns</p>\n",
       "</div>"
      ],
      "text/plain": [
       "    wordkey  teddy  words  outrage  flatter  testing  partner  fixed  cheered  \\\n",
       "0     harry    0.0    0.0      0.0      0.0      0.0      0.0    0.0      0.0   \n",
       "1    potter    0.0    0.0      0.0      0.0      0.0      0.0    0.0      0.0   \n",
       "2  sorcerer    0.0    0.0      0.0      0.0      0.0      0.0    0.0      0.0   \n",
       "3     stone    0.0    0.0      0.0      0.0      0.0      0.0    0.0      0.0   \n",
       "4   chapter    0.0    0.0      0.0      0.0      0.0      0.0    0.0      0.0   \n",
       "\n",
       "   believe   ...     definitely  praying  bletchley  pompously  lessened  \\\n",
       "0      0.0   ...            0.0      0.0        0.0        0.0       0.0   \n",
       "1      0.0   ...            0.0      0.0        0.0        0.0       0.0   \n",
       "2      0.0   ...            0.0      0.0        0.0        0.0       0.0   \n",
       "3      0.0   ...            0.0      0.0        0.0        0.0       0.0   \n",
       "4      0.0   ...            0.0      0.0        0.0        0.0       0.0   \n",
       "\n",
       "   wind  soaring  flames  snoozed  stadium  \n",
       "0   0.0      0.0     0.0      0.0      0.0  \n",
       "1   0.0      0.0     0.0      0.0      0.0  \n",
       "2   0.0      0.0     0.0      0.0      0.0  \n",
       "3   0.0      0.0     0.0      0.0      0.0  \n",
       "4   0.0      0.0     0.0      0.0      0.0  \n",
       "\n",
       "[5 rows x 5616 columns]"
      ]
     },
     "execution_count": 13,
     "metadata": {},
     "output_type": "execute_result"
    }
   ],
   "source": [
    "colnames=[int_to_char[i] for i in range(len(vocab))]\n",
    "word2vecrep=pd.DataFrame(X, columns=colnames)\n",
    "word2vecrep.insert(0, 'wordkey', word_tokens)\n",
    "word2vecrep.head()"
   ]
  },
  {
   "cell_type": "code",
   "execution_count": 8,
   "metadata": {},
   "outputs": [
    {
     "data": {
      "text/plain": [
       "(1327, 80, 370, 25, 11)"
      ]
     },
     "execution_count": 8,
     "metadata": {},
     "output_type": "execute_result"
    }
   ],
   "source": [
    "count_harry = word_tokens.count('harry')  \n",
    "count_stone = word_tokens.count('stone')\n",
    "count_hagrid = word_tokens.count('hagrid')\n",
    "count_feeling = word_tokens.count('feeling')\n",
    "count_living = word_tokens.count('living')\n",
    "count_harry,count_stone,count_hagrid,count_feeling,count_living"
   ]
  },
  {
   "cell_type": "code",
   "execution_count": 9,
   "metadata": {},
   "outputs": [],
   "source": [
    "word2vecbycount=word2vecrep.groupby(['wordkey']).sum()"
   ]
  },
  {
   "cell_type": "code",
   "execution_count": 10,
   "metadata": {},
   "outputs": [
    {
     "data": {
      "text/plain": [
       "0.05124340617935192"
      ]
     },
     "execution_count": 10,
     "metadata": {},
     "output_type": "execute_result"
    }
   ],
   "source": [
    "word2vecbycount.loc[\"harry\", :][\"potter\"]/count_harry"
   ]
  },
  {
   "cell_type": "code",
   "execution_count": 11,
   "metadata": {},
   "outputs": [
    {
     "data": {
      "text/plain": [
       "0.2712886209495102"
      ]
     },
     "execution_count": 11,
     "metadata": {},
     "output_type": "execute_result"
    }
   ],
   "source": [
    "word2vecbycount.loc[\"harry\", :][\"said\"]/count_harry"
   ]
  },
  {
   "cell_type": "code",
   "execution_count": 12,
   "metadata": {},
   "outputs": [
    {
     "data": {
      "text/plain": [
       "0.1"
      ]
     },
     "execution_count": 12,
     "metadata": {},
     "output_type": "execute_result"
    }
   ],
   "source": [
    "word2vecbycount.loc[\"everyone\", :][\"knows\"]/word_tokens.count('everyone') "
   ]
  }
 ],
 "metadata": {
  "kernelspec": {
   "display_name": "Python 3",
   "language": "python",
   "name": "python3"
  },
  "language_info": {
   "codemirror_mode": {
    "name": "ipython",
    "version": 3
   },
   "file_extension": ".py",
   "mimetype": "text/x-python",
   "name": "python",
   "nbconvert_exporter": "python",
   "pygments_lexer": "ipython3",
   "version": "3.7.1"
  }
 },
 "nbformat": 4,
 "nbformat_minor": 2
}
